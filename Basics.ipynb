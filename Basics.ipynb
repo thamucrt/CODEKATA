{
  "nbformat": 4,
  "nbformat_minor": 0,
  "metadata": {
    "colab": {
      "provenance": []
    },
    "kernelspec": {
      "name": "python3",
      "display_name": "Python 3"
    },
    "language_info": {
      "name": "python"
    }
  },
  "cells": [
    {
      "cell_type": "markdown",
      "source": [
        "**Q1**.Given a number N, print 'yes' if it is composite else print 'no'.\n",
        "Sample Testcase :\n",
        "INPUT\n",
        "123\n",
        "OUTPUT\n",
        "yes"
      ],
      "metadata": {
        "id": "BPc-Ay3Zz3zd"
      }
    },
    {
      "cell_type": "code",
      "source": [
        "N=int(input())\n",
        "i=0\n",
        "for i in range(1,N):\n",
        "  if N%i==0:\n",
        "    factor=i\n",
        "if factor>1:\n",
        "  print ('yes')\n",
        "else:\n",
        "  print ('no')"
      ],
      "metadata": {
        "colab": {
          "base_uri": "https://localhost:8080/"
        },
        "id": "lMjppBX10wTZ",
        "outputId": "3bc5462c-e954-4cb2-9603-c03d957dc701"
      },
      "execution_count": 2,
      "outputs": [
        {
          "output_type": "stream",
          "name": "stdout",
          "text": [
            "123\n",
            "yes\n"
          ]
        }
      ]
    },
    {
      "cell_type": "markdown",
      "source": [
        "**Q2**.Write a code to get an integer N and print the even values from 1 till N in a separate line.\n",
        "\n",
        "Input Description:\n",
        "A single line contains an integer N.\n",
        "\n",
        "Output Description:\n",
        "Print the even values from 1 to N in a separate line.\n",
        "\n",
        "Sample Input :\n",
        "6\n",
        "Sample Output :\n",
        "2\n",
        "4\n",
        "6"
      ],
      "metadata": {
        "id": "9mDXRLFQzqhO"
      }
    },
    {
      "cell_type": "code",
      "execution_count": 1,
      "metadata": {
        "colab": {
          "base_uri": "https://localhost:8080/"
        },
        "id": "2ZpSQOPDzld4",
        "outputId": "0fde0bbc-8190-4fd3-e3ab-5accfccad131"
      },
      "outputs": [
        {
          "output_type": "stream",
          "name": "stdout",
          "text": [
            "6\n",
            "2\n",
            "4\n",
            "6\n"
          ]
        }
      ],
      "source": [
        "n=int(input())\n",
        "for i in range(2,n+1): \n",
        "    if i%2==0: \n",
        "       print(i)"
      ]
    },
    {
      "cell_type": "markdown",
      "source": [
        "**Q3**.Write a program to print the sum of the first K natural numbers.\n",
        "Input Size : n <= 100000\n",
        "Sample Testcase :\n",
        "INPUT\n",
        "3\n",
        "OUTPUT\n",
        "6"
      ],
      "metadata": {
        "id": "FclriXQL00Uh"
      }
    },
    {
      "cell_type": "code",
      "source": [
        "a=int(input())\n",
        "sum=0\n",
        "for i in range(a+1):\n",
        "  sum=sum+i\n",
        "print(sum)"
      ],
      "metadata": {
        "colab": {
          "base_uri": "https://localhost:8080/"
        },
        "id": "A1apIfAB00C5",
        "outputId": "02b78844-0e4d-4be7-d383-985bc3eb9cbd"
      },
      "execution_count": 3,
      "outputs": [
        {
          "output_type": "stream",
          "name": "stdout",
          "text": [
            "3\n",
            "6\n"
          ]
        }
      ]
    },
    {
      "cell_type": "markdown",
      "source": [
        "**Q4**.Given 2 numbers N and M add both the numbers and check whether the sum is odd or even.\n",
        "Sample Testcase :\n",
        "INPUT\n",
        "9 2\n",
        "OUTPUT\n",
        "odd"
      ],
      "metadata": {
        "id": "wcq_jePN3tOp"
      }
    },
    {
      "cell_type": "code",
      "source": [
        "N,M=map(int,input().split(\" \"))\n",
        "\n",
        "sum=(M+N)\n",
        "\n",
        "if (sum%2)==0:\n",
        "  print('even')\n",
        "else:\n",
        "  print('odd')"
      ],
      "metadata": {
        "colab": {
          "base_uri": "https://localhost:8080/"
        },
        "id": "YybEiRSf3zqR",
        "outputId": "3af77315-52db-4ad8-fa28-36f110db7d9a"
      },
      "execution_count": 4,
      "outputs": [
        {
          "output_type": "stream",
          "name": "stdout",
          "text": [
            "9 2\n",
            "odd\n"
          ]
        }
      ]
    },
    {
      "cell_type": "markdown",
      "source": [
        "**Q5**.Given 3 numbers N , L and R. Print 'yes' if N is between L and R else print 'no'.\n",
        "Sample Testcase :\n",
        "INPUT\n",
        "3\n",
        "2 6\n",
        "OUTPUT\n",
        "yes"
      ],
      "metadata": {
        "id": "ZV-xXt7o4BP_"
      }
    },
    {
      "cell_type": "code",
      "source": [
        "N=int(input())\n",
        "L,R=map(int,input().split())\n",
        "\n",
        "if N in range(L,R):\n",
        "  print('yes'),\n",
        "else:\n",
        "  print('no')2"
      ],
      "metadata": {
        "colab": {
          "base_uri": "https://localhost:8080/"
        },
        "id": "YR7K2ACn4D-t",
        "outputId": "86c5d3af-cd4d-4c17-98f8-646afe31ad7f"
      },
      "execution_count": 7,
      "outputs": [
        {
          "output_type": "stream",
          "name": "stdout",
          "text": [
            "3\n",
            "2 6\n",
            "yes\n"
          ]
        }
      ]
    },
    {
      "cell_type": "markdown",
      "source": [
        "**Q6**.Given base(B) and height(H) of a triangle find its area.\n",
        "Input Size : N <= 1000000\n",
        "Sample Testcase :\n",
        "INPUT\n",
        "2 4\n",
        "OUTPUT\n",
        "4"
      ],
      "metadata": {
        "id": "VeEPoROS4fVa"
      }
    },
    {
      "cell_type": "code",
      "source": [
        "B,H=map(int,input().split(\" \"))\n",
        "triangle=((1/2)*(B*H))\n",
        "\n",
        "print(round(triangle,1))"
      ],
      "metadata": {
        "colab": {
          "base_uri": "https://localhost:8080/"
        },
        "id": "pvXNQfo34kH9",
        "outputId": "ea510793-5fd1-43f4-b7fa-98b46c5b2ae2"
      },
      "execution_count": 8,
      "outputs": [
        {
          "output_type": "stream",
          "name": "stdout",
          "text": [
            "2 4\n",
            "4.0\n"
          ]
        }
      ]
    },
    {
      "cell_type": "markdown",
      "source": [
        "**Q7**.Write a code to get an integer N and print values from 1 till N in a separate line.\n",
        "\n",
        "Input Description:\n",
        "A single line contains an integer N.\n",
        "\n",
        "Output Description:\n",
        "Print the values from 1 to N in a separate line.\n",
        "\n",
        "Sample Input :\n",
        "5\n",
        "Sample Output :\n",
        "1\n",
        "2\n",
        "3\n",
        "4\n",
        "5"
      ],
      "metadata": {
        "id": "4OqtXx4r5OM3"
      }
    },
    {
      "cell_type": "code",
      "source": [
        "a=int(input())\n",
        "i = 1\n",
        "while i <= a:\n",
        "  print(i)\n",
        "  if i == a:\n",
        "    break\n",
        "  i= i+1"
      ],
      "metadata": {
        "colab": {
          "base_uri": "https://localhost:8080/"
        },
        "id": "UK8jmG3e5Xnl",
        "outputId": "95fcaecb-6ca4-4b09-9017-ac3226c3786b"
      },
      "execution_count": 9,
      "outputs": [
        {
          "output_type": "stream",
          "name": "stdout",
          "text": [
            "5\n",
            "1\n",
            "2\n",
            "3\n",
            "4\n",
            "5\n"
          ]
        }
      ]
    },
    {
      "cell_type": "markdown",
      "source": [
        "**Q8**.Find the minimum among 10 numbers.\n",
        "Sample Testcase :\n",
        "INPUT\n",
        "5 4 3 2 1 7 6 10 8 9\n",
        "OUTPUT\n",
        "1"
      ],
      "metadata": {
        "id": "2nbK-emG5cNJ"
      }
    },
    {
      "cell_type": "code",
      "source": [
        "a=map(int,input().split())\n",
        "print(min(a))"
      ],
      "metadata": {
        "colab": {
          "base_uri": "https://localhost:8080/"
        },
        "id": "0dTsJy105gxd",
        "outputId": "23375c70-1087-408d-ca10-5830848e927d"
      },
      "execution_count": 10,
      "outputs": [
        {
          "output_type": "stream",
          "name": "stdout",
          "text": [
            "5 4 3 2 1 7 6 10 8 9\n",
            "1\n"
          ]
        }
      ]
    },
    {
      "cell_type": "markdown",
      "source": [
        "**Q9**.Given 2 numbers N and K followed by N elements,print the number of repetition of K otherwise print '-1' if the element not found.\n",
        "Sample Testcase :\n",
        "INPUT\n",
        "6 2\n",
        "1 2 3 5 7 8\n",
        "OUTPUT\n",
        "0"
      ],
      "metadata": {
        "id": "wZu692zH5veu"
      }
    },
    {
      "cell_type": "code",
      "source": [
        "b,k = map(int,input().split())\n",
        "n = list(map(int,input().split()))\n",
        "flag = 0\n",
        "if k in n:\n",
        "    flag += 1\n",
        "    if flag > 1:\n",
        "        print(flag)\n",
        "    else:\n",
        "        print(0)\n",
        "else:\n",
        "    print(-1)"
      ],
      "metadata": {
        "colab": {
          "base_uri": "https://localhost:8080/"
        },
        "id": "2hfVK46L514R",
        "outputId": "8aec73ac-0a4a-40dc-c1ce-4f48dd78b3f4"
      },
      "execution_count": 11,
      "outputs": [
        {
          "output_type": "stream",
          "name": "stdout",
          "text": [
            "6 2 \n",
            "1 2 3 5 7 8\n",
            "0\n"
          ]
        }
      ]
    },
    {
      "cell_type": "markdown",
      "source": [
        "**Q10**.Given 2 numbers N,M. Print 'yes' if their product is a perfect square else print 'no'.\n",
        "Sample Testcase :\n",
        "INPUT\n",
        "5 5\n",
        "OUTPUT\n",
        "yes"
      ],
      "metadata": {
        "id": "IzEMWNpK6oVV"
      }
    },
    {
      "cell_type": "code",
      "source": [
        "import math\n",
        "\n",
        "N,M=map(int,input().split(\" \"))\n",
        "\n",
        "root=N*M\n",
        "if (root**0.5)==N:\n",
        "    print(\"yes\")\n",
        "else:\n",
        "    print(\"no\")"
      ],
      "metadata": {
        "colab": {
          "base_uri": "https://localhost:8080/"
        },
        "id": "9LyURNYL6u5m",
        "outputId": "14089938-f395-4be9-c410-f8bd7a9455fc"
      },
      "execution_count": 12,
      "outputs": [
        {
          "output_type": "stream",
          "name": "stdout",
          "text": [
            "5 5\n",
            "yes\n"
          ]
        }
      ]
    },
    {
      "cell_type": "markdown",
      "source": [
        "**Q11**.Write a code to get a integer n as input and calculate the smallest perfect power of 2 greater than n.\n",
        "\n",
        "Input Description:\n",
        "A single line containing an integer,n.\n",
        "\n",
        "Output Description:\n",
        "Print the smallest perfect power of 2 greater than n.\n",
        "\n",
        "Sample Input :\n",
        "48\n",
        "Sample Output :\n",
        "64"
      ],
      "metadata": {
        "id": "eA8ORxZi7R2V"
      }
    },
    {
      "cell_type": "code",
      "source": [
        "s=int(input())\n",
        "n=2\n",
        "d=[]\n",
        "for i in range(20):\n",
        "    n=n*2\n",
        "    d.append(n)\n",
        "for i in d:\n",
        "    if i>s:\n",
        "        print(i)\n",
        "        break"
      ],
      "metadata": {
        "colab": {
          "base_uri": "https://localhost:8080/"
        },
        "id": "65iToVkB7Yps",
        "outputId": "bf52d3dd-e5eb-43a7-b85b-d49f9806d83a"
      },
      "execution_count": 13,
      "outputs": [
        {
          "output_type": "stream",
          "name": "stdout",
          "text": [
            "48\n",
            "64\n"
          ]
        }
      ]
    },
    {
      "cell_type": "markdown",
      "source": [
        "**Q12**.Write a code to get an integer N and print the sum of  values from 1 to N.\n",
        "\n",
        "Input Description:\n",
        "A single line contains an integer N.\n",
        "\n",
        "Output Description:\n",
        "Print the sum of values from 1 to N.\n",
        "\n",
        "Sample Input :\n",
        "10\n",
        "Sample Output :\n",
        "55"
      ],
      "metadata": {
        "id": "Pw8mkX9M7c5B"
      }
    },
    {
      "cell_type": "code",
      "source": [
        "n=int(input())\n",
        "\n",
        "print(int(n*(n+1)/2))"
      ],
      "metadata": {
        "colab": {
          "base_uri": "https://localhost:8080/"
        },
        "id": "P_itnHLA7jEi",
        "outputId": "6c3f1b1a-63b1-49d4-d1e2-a2253913f1f3"
      },
      "execution_count": 14,
      "outputs": [
        {
          "output_type": "stream",
          "name": "stdout",
          "text": [
            "10\n",
            "55\n"
          ]
        }
      ]
    },
    {
      "cell_type": "markdown",
      "source": [
        "**Q13**.Write a code to get the input and print it 5 times.\n",
        "\n",
        "Input Description:\n",
        "A single line contains an integer N.\n",
        "\n",
        "Output Description:\n",
        "Output contains 5 lines with each line having the value N.\n",
        "\n",
        "Sample Input :\n",
        "4\n",
        "Sample Output :\n",
        "4\n",
        "4\n",
        "4\n",
        "4\n",
        "4"
      ],
      "metadata": {
        "id": "Y9df0VLB7o-e"
      }
    },
    {
      "cell_type": "code",
      "source": [
        "a=input()\n",
        "i=0\n",
        "while i<5:\n",
        "  print(a)\n",
        "  i=i+1"
      ],
      "metadata": {
        "colab": {
          "base_uri": "https://localhost:8080/"
        },
        "id": "D5d9IBQj7uF9",
        "outputId": "95f9e475-2573-479a-b32e-bcb4eb0d7aae"
      },
      "execution_count": 15,
      "outputs": [
        {
          "output_type": "stream",
          "name": "stdout",
          "text": [
            "4\n",
            "4\n",
            "4\n",
            "4\n",
            "4\n",
            "4\n"
          ]
        }
      ]
    },
    {
      "cell_type": "markdown",
      "source": [
        "**Q14**.Given 2 numbers N,M find the GCD of N and M.If it cannot be found for given number(s) then print -1\n",
        "Sample Testcase :\n",
        "INPUT\n",
        "10 5\n",
        "OUTPUT\n",
        "5"
      ],
      "metadata": {
        "id": "lkuLj9gn7xbF"
      }
    },
    {
      "cell_type": "code",
      "source": [
        "import math\n",
        "M,N=map(int,input().split(\" \"))\n",
        "a=math.gcd(M,N)\n",
        "\n",
        "if M>0 and N>0:\n",
        "  print(a)\n",
        "elif M==0 or N==0:\n",
        "  print(\"-1\")\n",
        "else:\n",
        "  print(\"1\")"
      ],
      "metadata": {
        "colab": {
          "base_uri": "https://localhost:8080/"
        },
        "id": "mPFMIgoZ73pB",
        "outputId": "a125ba41-0330-4024-fcda-408c057965fc"
      },
      "execution_count": 16,
      "outputs": [
        {
          "output_type": "stream",
          "name": "stdout",
          "text": [
            "10 5\n",
            "5\n"
          ]
        }
      ]
    },
    {
      "cell_type": "markdown",
      "source": [
        "**Q15**.Given a number N and an array of N elements ,find the Bitwise AND of the array elements.\n",
        "Input Size N <= 100000\n",
        "Sample Testcase :\n",
        "INPUT\n",
        "4\n",
        "4 3 2 1\n",
        "OUTPUT\n",
        "0"
      ],
      "metadata": {
        "id": "97iMHpXn8QY0"
      }
    },
    {
      "cell_type": "code",
      "source": [
        "n=int(input())\n",
        "l=list(map(int,input().split()))\n",
        "sum=l[0]\n",
        "for i in range(1,n):\n",
        "  sum = (sum & int(l[i]))\n",
        "print(sum)"
      ],
      "metadata": {
        "id": "Kvmv3YsH8VVY"
      },
      "execution_count": null,
      "outputs": []
    },
    {
      "cell_type": "markdown",
      "source": [
        "**Q16**.Given 3 numbers A,B,C process and print 'yes' if they can form the sides of a triangle otherwise print 'no'.\n",
        "Input Size : A,B,C <= 100000\n",
        "Sample Testcase :\n",
        "INPUT\n",
        "3 4 5\n",
        "OUTPUT\n",
        "yes"
      ],
      "metadata": {
        "id": "dbGmJTjN89q-"
      }
    },
    {
      "cell_type": "code",
      "source": [
        "a,b,c=map(int,input().split())\n",
        "\n",
        "if a+b>c and b+c>a and c+a>b:\n",
        "    print(\"yes\")\n",
        "else:\n",
        "    print(\"no\")"
      ],
      "metadata": {
        "colab": {
          "base_uri": "https://localhost:8080/"
        },
        "id": "rBocNI6W9EaE",
        "outputId": "d376f645-1d1e-4da0-b6e6-b80ac5592ede"
      },
      "execution_count": 19,
      "outputs": [
        {
          "output_type": "stream",
          "name": "stdout",
          "text": [
            "3 4 5\n",
            "yes\n"
          ]
        }
      ]
    },
    {
      "cell_type": "markdown",
      "source": [
        "**Q17**.Given 3 numbers A,B,C print 'yes' if they can form the sides of a scalene triangle else print 'no'.\n",
        "Input Size : A,B,C <= 100000\n",
        "Sample Testcase :\n",
        "INPUT\n",
        "3 4 5\n",
        "OUTPUT\n",
        "yes"
      ],
      "metadata": {
        "id": "F51LjRD19SrM"
      }
    },
    {
      "cell_type": "code",
      "source": [
        "a,b,c=(map(int,input().split()))\n",
        "\n",
        "if a==b or b==c or c==a:\n",
        "  print(\"no\")\n",
        "else:\n",
        "  print(\"yes\")"
      ],
      "metadata": {
        "colab": {
          "base_uri": "https://localhost:8080/"
        },
        "id": "aQw8VK9b9umU",
        "outputId": "c49448be-6ca5-468b-aa37-d5bbb1b9d51d"
      },
      "execution_count": 20,
      "outputs": [
        {
          "output_type": "stream",
          "name": "stdout",
          "text": [
            "3 4 5\n",
            "yes\n"
          ]
        }
      ]
    },
    {
      "cell_type": "markdown",
      "source": [
        "**Q18**.Given a range of 2 numbers (i.e) L and R count the number of prime numbers in the range (inclusive of L and R ).\n",
        "Input Size : L <= R <= 100000(complexity O(n) read about Sieve of Eratosthenes)\n",
        "Sample Testcase :\n",
        "INPUT\n",
        "2 5\n",
        "OUTPUT\n",
        "3"
      ],
      "metadata": {
        "id": "dpGYq91D90uS"
      }
    },
    {
      "cell_type": "code",
      "source": [
        "L,R=map(int,input().split(\" \"))\n",
        "i=0\n",
        "a=[]\n",
        "for i in range(L,R+1):\n",
        "    if (i%2)!=0:\n",
        "        a.append(i)\n",
        "print(a)"
      ],
      "metadata": {
        "id": "Xey0eyvg95hq"
      },
      "execution_count": null,
      "outputs": []
    },
    {
      "cell_type": "markdown",
      "source": [
        "**Q19**.Given a string 'S' swap the even and odd characters starting from index 1(Assume the index starts from 0).\n",
        "Input Size : |s| <= 10000000(complexity O(n))\n",
        "Sample Testcase :\n",
        "INPUT\n",
        "codekata\n",
        "OUTPUT\n",
        "ocedakat"
      ],
      "metadata": {
        "id": "o-I0OwvN-qJJ"
      }
    },
    {
      "cell_type": "code",
      "source": [
        "s=input()\n",
        "t=list(s)\n",
        "t[::2],t[1::2]=t[1::2],t[::2]\n",
        "c=''.join(t)\n",
        "print(c)"
      ],
      "metadata": {
        "colab": {
          "base_uri": "https://localhost:8080/"
        },
        "id": "M1iG1TE6-wHY",
        "outputId": "230ad487-f760-43c1-a2b2-4094c0cd593b"
      },
      "execution_count": 21,
      "outputs": [
        {
          "output_type": "stream",
          "name": "stdout",
          "text": [
            "codekata\n",
            "ocedakat\n"
          ]
        }
      ]
    },
    {
      "cell_type": "markdown",
      "source": [
        "**Q20**Write a code to get an integer N and print the digits of the integer.\n",
        "\n",
        "Input Description:\n",
        "A single line contains an integer N.\n",
        "\n",
        "Output Description:\n",
        "Print the digits of the integer in a single line separated by space,\n",
        "\n",
        "Sample Input :\n",
        "348\n",
        "Sample Output :\n",
        "3 4 8"
      ],
      "metadata": {
        "id": "uvIiBA22_Ffr"
      }
    },
    {
      "cell_type": "code",
      "source": [
        "N=(input())\n",
        "print(*N)"
      ],
      "metadata": {
        "colab": {
          "base_uri": "https://localhost:8080/"
        },
        "id": "hFXWhmzE_JoU",
        "outputId": "0d686998-d444-4b69-a1f8-07fc1659938d"
      },
      "execution_count": 22,
      "outputs": [
        {
          "output_type": "stream",
          "name": "stdout",
          "text": [
            "348\n",
            "3 4 8\n"
          ]
        }
      ]
    },
    {
      "cell_type": "markdown",
      "source": [
        "**Q21**.Given numbers A,B find A^B.\n",
        "Input Size : 1 <= A <= 5 <= B <= 50\n",
        "Sample Testcase :\n",
        "INPUT\n",
        "3 4\n",
        "OUTPUT\n",
        "81"
      ],
      "metadata": {
        "id": "FUg90BWD_bHA"
      }
    },
    {
      "cell_type": "code",
      "source": [
        "A,B=map(int,input().split(\" \"))\n",
        "c=(A**B)\n",
        "print(c)"
      ],
      "metadata": {
        "colab": {
          "base_uri": "https://localhost:8080/"
        },
        "id": "rawKnC4n_sij",
        "outputId": "f14228e3-63bc-46f1-a7bf-3252d8f4d000"
      },
      "execution_count": 23,
      "outputs": [
        {
          "output_type": "stream",
          "name": "stdout",
          "text": [
            "3 4\n",
            "81\n"
          ]
        }
      ]
    },
    {
      "cell_type": "markdown",
      "source": [
        "**Q22**.Write a code to get an integer N and print the values from N to 1.\n",
        "\n",
        "Input Description:\n",
        "A single line contains an integer N.\n",
        "\n",
        "Output Description:\n",
        "Print the values from N to 1 in a separate line.\n",
        "\n",
        "Sample Input :\n",
        "10\n",
        "Sample Output :\n",
        "10\n",
        "9\n",
        "8\n",
        "7\n",
        "6\n",
        "5\n",
        "4\n",
        "3\n",
        "2\n",
        "1"
      ],
      "metadata": {
        "id": "IGvy_r2__v9M"
      }
    },
    {
      "cell_type": "code",
      "source": [
        "N=int(input())\n",
        "\n",
        "for i in range(N,0,-1):\n",
        "  print(i)"
      ],
      "metadata": {
        "colab": {
          "base_uri": "https://localhost:8080/"
        },
        "id": "dTvheODd_3D4",
        "outputId": "422bc85d-0260-484c-824e-6e6ced275366"
      },
      "execution_count": 24,
      "outputs": [
        {
          "output_type": "stream",
          "name": "stdout",
          "text": [
            "10\n",
            "10\n",
            "9\n",
            "8\n",
            "7\n",
            "6\n",
            "5\n",
            "4\n",
            "3\n",
            "2\n",
            "1\n"
          ]
        }
      ]
    },
    {
      "cell_type": "markdown",
      "source": [
        "**Q23**.Write a code to get 2 integers as input and add the integers without any carry.\n",
        "\n",
        "Input Description:\n",
        "A single line containing 2 integers.\n",
        "\n",
        "Output Description:\n",
        "Print sum of the 2 integers without carry\n",
        "\n",
        "Sample Input :\n",
        "44 66\n",
        "Sample Output :\n",
        "0"
      ],
      "metadata": {
        "id": "KxxSpLhw_7AB"
      }
    },
    {
      "cell_type": "code",
      "source": [
        "a, b = list(map(int, input().split()))\n",
        "\n",
        "c = a + b\n",
        "\n",
        "d = str(c)\n",
        "A = str(a)\n",
        "B = str(b)\n",
        "\n",
        "if c < 110 and ( len(d) > len(A) or len(d) > len(B)) :\n",
        "    print(d[-1])\n",
        "    \n",
        "elif c > 110 :\n",
        "    print((c - 100)/2)\n",
        "    \n",
        "else:\n",
        "    print(c)"
      ],
      "metadata": {
        "id": "5S11JtZvAC-e"
      },
      "execution_count": null,
      "outputs": []
    },
    {
      "cell_type": "markdown",
      "source": [
        "**Q24**.Write a program to get a string as input and reverse the string without using temporary variable.\n",
        "\n",
        "Input Description:\n",
        "A single line containing a string.\n",
        "\n",
        "Output Description:\n",
        "Print the reversed string.\n",
        "\n",
        "Sample Input :\n",
        "GUVI\n",
        "Sample Output :\n",
        "IVUG"
      ],
      "metadata": {
        "id": "Tqf9VPjKAG0P"
      }
    },
    {
      "cell_type": "code",
      "source": [
        "a=input()\n",
        "print(a[::-1])"
      ],
      "metadata": {
        "colab": {
          "base_uri": "https://localhost:8080/"
        },
        "id": "DkaJsQ2iAMos",
        "outputId": "321aab0c-d7f0-4796-a25a-8ba4343d2a73"
      },
      "execution_count": 25,
      "outputs": [
        {
          "output_type": "stream",
          "name": "stdout",
          "text": [
            "GUVI\n",
            "IVUG\n"
          ]
        }
      ]
    },
    {
      "cell_type": "markdown",
      "source": [
        "**Q25**.Given 3 numbers A,B,C print 'yes' if they can form the sides of a right angled triangle,otherwise 'no'.\n",
        "Input Size : A,B,C <= 100000\n",
        "Sample Testcase :\n",
        "INPUT\n",
        "3 4 5\n",
        "OUTPUT\n",
        "yes"
      ],
      "metadata": {
        "id": "4Ic1h08XAQFS"
      }
    },
    {
      "cell_type": "code",
      "source": [
        "a,b,c=map(int,input().split())\n",
        "\n",
        "if a+b>c and b+c>a and c+a>b:\n",
        "    print(\"yes\")\n",
        "else:\n",
        "    print(\"no\")"
      ],
      "metadata": {
        "colab": {
          "base_uri": "https://localhost:8080/"
        },
        "id": "eWzADM7iAkTm",
        "outputId": "35e1e741-2c50-42e4-d9af-ee764de4234e"
      },
      "execution_count": 26,
      "outputs": [
        {
          "output_type": "stream",
          "name": "stdout",
          "text": [
            "3 4 5\n",
            "yes\n"
          ]
        }
      ]
    },
    {
      "cell_type": "markdown",
      "source": [
        "**Q26**.Write a code get an integer number as input and print the odd and even digits of the number separately.\n",
        "\n",
        "Input Description:\n",
        "A single line containing an integer.\n",
        "\n",
        "Output Description:\n",
        "Print the even and odd integers of the integer in a separate line.\n",
        "\n",
        "Sample Input :\n",
        "1234\n",
        "Sample Output :\n",
        "2 4\n",
        "1 3"
      ],
      "metadata": {
        "id": "aa_jboV8AovO"
      }
    },
    {
      "cell_type": "code",
      "source": [
        "n = input()\n",
        "even = []\n",
        "odd = []\n",
        "for i in n:\n",
        "    if int(i) % 2 == 0:\n",
        "        even.append(i)\n",
        "    else:\n",
        "        odd.append(i)\n",
        "even.sort()\n",
        "odd.sort()\n",
        "print(*even)\n",
        "print(*odd)"
      ],
      "metadata": {
        "colab": {
          "base_uri": "https://localhost:8080/"
        },
        "id": "B91lYwXzA4za",
        "outputId": "773b28e7-eb82-4b3c-fb38-f56a3800c01c"
      },
      "execution_count": 27,
      "outputs": [
        {
          "output_type": "stream",
          "name": "stdout",
          "text": [
            "1234\n",
            "2 4\n",
            "1 3\n"
          ]
        }
      ]
    },
    {
      "cell_type": "markdown",
      "source": [
        "**Q27**.Given a string S consisting of 2 words reverse the order of two words .\n",
        "Input Size : |S| <= 10000000\n",
        "Sample Testcase :\n",
        "INPUT\n",
        "hello world\n",
        "OUTPUT\n",
        "world hello"
      ],
      "metadata": {
        "id": "jcypzXkcA8vy"
      }
    },
    {
      "cell_type": "code",
      "source": [
        "a=input().split(\" \")\n",
        "\n",
        "b=(a[::-1])\n",
        "print(*b)"
      ],
      "metadata": {
        "colab": {
          "base_uri": "https://localhost:8080/"
        },
        "id": "Yg_O2qBnBD10",
        "outputId": "c5ceccb7-7310-48af-c9d4-89c99da5f54c"
      },
      "execution_count": 28,
      "outputs": [
        {
          "output_type": "stream",
          "name": "stdout",
          "text": [
            "hello world\n",
            "world hello\n"
          ]
        }
      ]
    },
    {
      "cell_type": "markdown",
      "source": [
        "**Q28**.Given 2 numbers N and K followed by elements of N .Print 'yes' if K exists else print 'no'.\n",
        "Sample Testcase :\n",
        "INPUT\n",
        "4 2\n",
        "1 2 3 3\n",
        "OUTPUT\n",
        "yes"
      ],
      "metadata": {
        "id": "Ig2LuN2EBTI2"
      }
    },
    {
      "cell_type": "code",
      "source": [
        "N,K=map(int,input().split(\" \"))\n",
        "L=list(map(int,input().split(\" \")))\n",
        "\n",
        "if K in L:\n",
        "  print(\"yes\")\n",
        "else:\n",
        "  print(\"no\")"
      ],
      "metadata": {
        "colab": {
          "base_uri": "https://localhost:8080/"
        },
        "id": "vXXi3Xu1Bc0u",
        "outputId": "6e5436e7-24f0-492d-9210-094b2787c810"
      },
      "execution_count": 30,
      "outputs": [
        {
          "output_type": "stream",
          "name": "stdout",
          "text": [
            "4 2\n",
            "1 2 3 3\n",
            "yes\n"
          ]
        }
      ]
    },
    {
      "cell_type": "markdown",
      "source": [
        "**Q29**.Given a number N and an array of N elements, find the Bitwise OR of the array elements.\n",
        "Input Size : N <= 100000\n",
        "Sample Testcase :\n",
        "INPUT\n",
        "2\n",
        "2 4\n",
        "OUTPUT\n",
        "6"
      ],
      "metadata": {
        "id": "4U1b8FVvBxeb"
      }
    },
    {
      "cell_type": "code",
      "source": [
        "n=int(input())\n",
        "l=list(map(int,input().split()))\n",
        "sum=l[0]\n",
        "for i in range(1,n):\n",
        "  sum = (sum | int(l[i]))\n",
        "print(sum)"
      ],
      "metadata": {
        "colab": {
          "base_uri": "https://localhost:8080/"
        },
        "id": "bLaf8d_gDqOi",
        "outputId": "5ab7fd10-d6f5-47f7-a296-046830ca91a7"
      },
      "execution_count": 32,
      "outputs": [
        {
          "output_type": "stream",
          "name": "stdout",
          "text": [
            "2\n",
            "2 4\n",
            "6\n"
          ]
        }
      ]
    },
    {
      "cell_type": "markdown",
      "source": [
        "**Q30**.Write a code to get 2 integers as input and find the HCF of the 2 integer without using recursion or Euclidean algorithm.\n",
        "\n",
        "Input Description:\n",
        "A single line containing 2 integers separated by space.\n",
        "\n",
        "Output Description:\n",
        "Print the HCF of the integers.\n",
        "\n",
        "Sample Input :\n",
        "2 3\n",
        "Sample Output :\n",
        "1"
      ],
      "metadata": {
        "id": "8XOLSSQ3Dw1y"
      }
    },
    {
      "cell_type": "code",
      "source": [
        "import math\n",
        "x,y = map(int,input().split(\" \"))\n",
        "print(math.gcd(x,y))"
      ],
      "metadata": {
        "colab": {
          "base_uri": "https://localhost:8080/"
        },
        "id": "kS8confbEAVW",
        "outputId": "766fb1cf-a100-4cb7-a87a-913fdf274cb8"
      },
      "execution_count": 33,
      "outputs": [
        {
          "output_type": "stream",
          "name": "stdout",
          "text": [
            "2 3\n",
            "1\n"
          ]
        }
      ]
    },
    {
      "cell_type": "markdown",
      "source": [
        "**Q31**.Kabali is a brave warrior who with his group of young ninjas moves from one place to another to fight against his opponents. Before Fighting he just calculates one thing, the difference between his ninja number and the opponent's ninja number. From this difference he decides whether to fight or not. Kabali's ninja number is never greater than his opponent.\n",
        "Input\n",
        "The input contains two numbers in every line. These two numbers in each line denotes the number ninjas in Kabali's clan and his opponent's clan . print the absolute difference of number of ninjas between Kabali's clan and his opponent's clan. Each output should be in seperate line.\n",
        "Sample Testcase :\n",
        "INPUT\n",
        "100 200\n",
        "OUTPUT\n",
        "100"
      ],
      "metadata": {
        "id": "RjcEVXtpEDJS"
      }
    },
    {
      "cell_type": "code",
      "source": [
        "a,b=(map(int, input().split()))\n",
        "\n",
        "c=(b-a)\n",
        "\n",
        "print(c)"
      ],
      "metadata": {
        "colab": {
          "base_uri": "https://localhost:8080/"
        },
        "id": "TWIOQqZ4EOeD",
        "outputId": "252af320-7f96-478e-9350-0d803584276c"
      },
      "execution_count": 34,
      "outputs": [
        {
          "output_type": "stream",
          "name": "stdout",
          "text": [
            "100 200\n",
            "100\n"
          ]
        }
      ]
    },
    {
      "cell_type": "markdown",
      "source": [
        "**Q32**.Write a code get an integer number as input and print the sum of the digits.\n",
        "\n",
        "Input Description:\n",
        "A single line containing an integer.\n",
        "\n",
        "Output Description:\n",
        "Print the sum of the digits of the integer.\n",
        "\n",
        "Sample Input :\n",
        "124\n",
        "Sample Output :\n",
        "7"
      ],
      "metadata": {
        "id": "aZ7_wk_0EbbM"
      }
    },
    {
      "cell_type": "code",
      "source": [
        "n=int(input())\n",
        "sum=0\n",
        "while(n>0):\n",
        "    dig=n%10\n",
        "    sum=sum+dig\n",
        "    n=n//10\n",
        "print(sum)"
      ],
      "metadata": {
        "colab": {
          "base_uri": "https://localhost:8080/"
        },
        "id": "rKzAVBMxEhHy",
        "outputId": "3944ca15-8524-434e-d5c0-c381095352ac"
      },
      "execution_count": 35,
      "outputs": [
        {
          "output_type": "stream",
          "name": "stdout",
          "text": [
            "124\n",
            "7\n"
          ]
        }
      ]
    },
    {
      "cell_type": "markdown",
      "source": [
        "**Q33**.Let P represent Paper, R represent Rock and S represent Scissors. Given 2 out of the 3 determine which one wins. If its a draw print 'D'.\n",
        "Sample Testcase :\n",
        "INPUT\n",
        "R P\n",
        "OUTPUT\n",
        "P"
      ],
      "metadata": {
        "id": "w-CLlkQoEky3"
      }
    },
    {
      "cell_type": "code",
      "source": [
        "A = input()\n",
        "\n",
        "if 'P' in A and 'R' in A:\n",
        "    print('P')\n",
        "elif 'P' in A and 'S' in A:\n",
        "    print('S')\n",
        "elif 'R' in A and 'S' in A:\n",
        "    print('R')\n",
        "else:\n",
        "    print('D')"
      ],
      "metadata": {
        "colab": {
          "base_uri": "https://localhost:8080/"
        },
        "id": "LtJjXDxfEqkJ",
        "outputId": "f4b74479-ba21-4899-b158-77c3c8632063"
      },
      "execution_count": 36,
      "outputs": [
        {
          "output_type": "stream",
          "name": "stdout",
          "text": [
            "R P\n",
            "P\n"
          ]
        }
      ]
    }
  ]
}