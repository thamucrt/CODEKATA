{
  "nbformat": 4,
  "nbformat_minor": 0,
  "metadata": {
    "colab": {
      "provenance": []
    },
    "kernelspec": {
      "name": "python3",
      "display_name": "Python 3"
    },
    "language_info": {
      "name": "python"
    }
  },
  "cells": [
    {
      "cell_type": "markdown",
      "source": [
        "**Q1**.You are given three numbers A, B & C. Print the largest amongst these three numbers.\n",
        "\n",
        "Input Description:\n",
        "Three numbers are provided to you.\n",
        "\n",
        "Output Description:\n",
        "Find and print the largest among the three\n",
        "\n",
        "Sample Input :\n",
        "1\n",
        "2\n",
        "3\n",
        "Sample Output :\n",
        "3"
      ],
      "metadata": {
        "id": "fOx-BDhSg7_h"
      }
    },
    {
      "cell_type": "code",
      "execution_count": null,
      "metadata": {
        "colab": {
          "base_uri": "https://localhost:8080/"
        },
        "id": "JfuE8KG4g2Kk",
        "outputId": "52acc2b3-00ed-43fb-90e5-f1481ddae298"
      },
      "outputs": [
        {
          "output_type": "stream",
          "name": "stdout",
          "text": [
            "1\n",
            "2\n",
            "3\n",
            "  3\n"
          ]
        }
      ],
      "source": [
        "num1=int(input())\n",
        "num2=int(input())\n",
        "num3=int(input())\n",
        "if num1>=num2 and num1>=num3:\n",
        "  biggest=num1\n",
        "elif num2>=num1 and num2>=num3:\n",
        "  biggest=num2\n",
        "else:\n",
        "  biggest=num3\n",
        "print(\" \",biggest)"
      ]
    },
    {
      "cell_type": "markdown",
      "source": [
        "**Q2**.You are provided with a number check whether its odd or even. \n",
        "\n",
        "Print \"Odd\" or \"Even\" for the corresponding cases.\n",
        "\n",
        "Note: In case of a decimal, Round off to nearest integer and then find the output. Incase the input is zero, print \"Zero\".\n",
        "\n",
        "Input Description:\n",
        "A number is provided as the input.\n",
        "\n",
        "Output Description:\n",
        "Find out whether the number is odd or even. Print \"Odd\" or \"Even\" for the corresponding cases. Note: In case of a decimal, Round off to nearest integer and then find the output. In case the input is zero, print \"Zero\".\n",
        "\n",
        "Sample Input :\n",
        "2\n",
        "Sample Output :\n",
        "Even"
      ],
      "metadata": {
        "id": "GOuBXQeniY3e"
      }
    },
    {
      "cell_type": "code",
      "source": [
        "A=int(input())\n",
        "if A==0:\n",
        "    print(\"zero\")\n",
        "elif A%2==0:\n",
        "    print(\"Even\")\n",
        "else:\n",
        "    print(\"Odd\")"
      ],
      "metadata": {
        "colab": {
          "base_uri": "https://localhost:8080/"
        },
        "id": "xSEy_nb2iYhA",
        "outputId": "7c147638-bd8f-48db-fa58-c30acdb7b2af"
      },
      "execution_count": null,
      "outputs": [
        {
          "output_type": "stream",
          "name": "stdout",
          "text": [
            "2\n",
            "Even\n"
          ]
        }
      ]
    },
    {
      "cell_type": "markdown",
      "source": [
        "**Q3**.You are given with a number A i.e. the temperature in Celcius. Write a program to convert this into Fahrenheit. \n",
        "\n",
        "Note: In case of decimal values, round-off to two decimal places.\n",
        "\n",
        "Input Description:\n",
        "A number is provided in Celcius as the input of the program.\n",
        "\n",
        "Output Description:\n",
        "The output shall be the temperature converted into Fahrenheit corresponding to the input value print up to two decimal places and round off if required.\n",
        "\n",
        "Sample Input :\n",
        "12\n",
        "Sample Output :\n",
        "53.60"
      ],
      "metadata": {
        "id": "MRpsSnVCkIcM"
      }
    },
    {
      "cell_type": "code",
      "source": [
        "temp=int(input())\n",
        "far=1.8*(temp)+32\n",
        "print(round(far,2))"
      ],
      "metadata": {
        "colab": {
          "base_uri": "https://localhost:8080/"
        },
        "id": "bGwDW1sSkNYa",
        "outputId": "ade6d48e-bf11-459d-ba7f-9d0ab47053e5"
      },
      "execution_count": null,
      "outputs": [
        {
          "output_type": "stream",
          "name": "stdout",
          "text": [
            "12\n",
            "53.6\n"
          ]
        }
      ]
    },
    {
      "cell_type": "markdown",
      "source": [
        "**Q4**.You are given with a number \"N\", find its cube.\n",
        "\n",
        "Input Description:\n",
        "A positive integer is provided.\n",
        "\n",
        "Output Description:\n",
        "Find the cube of the number.\n",
        "\n",
        "Sample Input :\n",
        "2\n",
        "Sample Output :\n",
        "8"
      ],
      "metadata": {
        "id": "qgvycQSvkQwy"
      }
    },
    {
      "cell_type": "code",
      "source": [
        "A=int(input())\n",
        "print(A**3)"
      ],
      "metadata": {
        "colab": {
          "base_uri": "https://localhost:8080/"
        },
        "id": "rgBsTLRokUrC",
        "outputId": "cd203146-113a-4bea-9c4a-13e92489df36"
      },
      "execution_count": null,
      "outputs": [
        {
          "output_type": "stream",
          "name": "stdout",
          "text": [
            "2\n",
            "8\n"
          ]
        }
      ]
    },
    {
      "cell_type": "markdown",
      "source": [
        "**Q5**.You will be provided with a number. Print the number of days in the month corresponding to that number.\n",
        "\n",
        "Note: In case the input is February, print 28 days. If the Input is not in valid range print \"Error\".\n",
        "\n",
        "Input Description:\n",
        "The input is in the form of a number.\n",
        "\n",
        "Output Description:\n",
        "Find the days in the month corresponding to the input number. Print Error if the input is not in a valid range.\n",
        "\n",
        "Sample Input :\n",
        "8\n",
        "Sample Output :\n",
        "31"
      ],
      "metadata": {
        "id": "KpbAaQqRkXoS"
      }
    },
    {
      "cell_type": "code",
      "source": [
        "a=int(input())\n",
        "b=[1,3,5,7,8,10,12]\n",
        "c=[4,6,9,11]\n",
        "d=[2]\n",
        "if a in b:\n",
        "    print(31)\n",
        "elif a in c:\n",
        "    print(30)\n",
        "elif a==2:\n",
        "    print(28)\n",
        "else:\n",
        "    print('Error')"
      ],
      "metadata": {
        "colab": {
          "base_uri": "https://localhost:8080/"
        },
        "id": "jeV0NiwWkbel",
        "outputId": "543a0a2d-ef7a-4069-b395-b82db4d181d2"
      },
      "execution_count": null,
      "outputs": [
        {
          "output_type": "stream",
          "name": "stdout",
          "text": [
            "8\n",
            "31\n"
          ]
        }
      ]
    },
    {
      "cell_type": "markdown",
      "source": [
        "**Q6**.You are given with Principle amount($), Interest Rate(%) and Time (years) in that order. Find Simple Interest.\n",
        "\n",
        "Print the output up to two decimal places (Round-off if necessary).\n",
        "\n",
        "(S.I. = P*T*R/100)\n",
        "\n",
        "Input Description:\n",
        "Three values are given to you as the input. these values correspond to Principle amount, Interest Rate and Time in that particular order.\n",
        "\n",
        "Output Description:\n",
        "Find the Simple interest and print it up to two decimal places. Round off if required.\n",
        "\n",
        "Sample Input :\n",
        "1000 2 5\n",
        "Sample Output :\n",
        "100.00"
      ],
      "metadata": {
        "id": "jXSwysCIkjnU"
      }
    },
    {
      "cell_type": "code",
      "source": [
        "principle_amnt,Interest_rate,Time=map(float,input().split())\n",
        "simpleInterest=(principle_amnt*Interest_rate*Time)/100\n",
        "print(f'{simpleInterest:.2f}')"
      ],
      "metadata": {
        "colab": {
          "base_uri": "https://localhost:8080/"
        },
        "id": "iesspjk7koxI",
        "outputId": "e5ceb18c-4921-4bfe-ab72-b91b81846894"
      },
      "execution_count": null,
      "outputs": [
        {
          "output_type": "stream",
          "name": "stdout",
          "text": [
            "1000 2 5\n",
            "100.00\n"
          ]
        }
      ]
    },
    {
      "cell_type": "markdown",
      "source": [
        "**Q7**.Print the First 3 multiples of the given number \"N\". (N is a positive integer)\n",
        "\n",
        "Note: print the characters with a single space between them.\n",
        "\n",
        "Input Description:\n",
        "A positive integer is provided to you as an input.\n",
        "\n",
        "Output Description:\n",
        "Print the First 3 multiples of the number with single spaces between them as an output.\n",
        "\n",
        "Sample Input :\n",
        "2\n",
        "Sample Output :\n",
        "2 4 6"
      ],
      "metadata": {
        "id": "JUDHnTDbkv4l"
      }
    },
    {
      "cell_type": "code",
      "source": [
        "def multiple(m,n):\n",
        "    if (m>0):\n",
        "        a=range(n,(m*n)+1,n)\n",
        "        print(*a)\n",
        "    else:\n",
        "        print(\"NULL\")\n",
        "m=3\n",
        "n=int(input())\n",
        "multiple(m,n)"
      ],
      "metadata": {
        "colab": {
          "base_uri": "https://localhost:8080/"
        },
        "id": "2eMWnku1kzhp",
        "outputId": "63ee8929-bee8-455a-8691-b357f2b49ce4"
      },
      "execution_count": null,
      "outputs": [
        {
          "output_type": "stream",
          "name": "stdout",
          "text": [
            "2\n",
            "2 4 6\n"
          ]
        }
      ]
    },
    {
      "cell_type": "markdown",
      "source": [
        "**Q8**.You are provided with a number \"N\", Find the Nth term of the series: 1, 4, 9, 16, 25, 36, 49, 64, 81, .......\n",
        "\n",
        "(Print \"Error\" if N = negative value and 0 if N = 0).\n",
        "\n",
        "Input Description:\n",
        "An integer N is provided to you as the input.\n",
        "\n",
        "Output Description:\n",
        "Find the Nth term in the provided series.\n",
        "\n",
        "Sample Input :\n",
        "18\n",
        "Sample Output :\n",
        "324"
      ],
      "metadata": {
        "id": "Y4FHDgqJk2r1"
      }
    },
    {
      "cell_type": "code",
      "source": [
        "N = int(input())\n",
        "\n",
        "def series(N):\n",
        "    if (N>0):\n",
        "        print(N**2)\n",
        "    elif (N==0):\n",
        "        print(\"0\")\n",
        "    else:\n",
        "        print(\"ERROR\")\n",
        "series(N)"
      ],
      "metadata": {
        "colab": {
          "base_uri": "https://localhost:8080/"
        },
        "id": "ZF1Tprb9k6w1",
        "outputId": "cad487c9-55fc-4352-bf1a-51e593e5864e"
      },
      "execution_count": null,
      "outputs": [
        {
          "output_type": "stream",
          "name": "stdout",
          "text": [
            "18\n",
            "324\n"
          ]
        }
      ]
    },
    {
      "cell_type": "markdown",
      "source": [
        "**Q9**.You are provided with a number, \"N\". Find its factorial.\n",
        "\n",
        "Input Description:\n",
        "A positive integer is provided as an input.\n",
        "\n",
        "Output Description:\n",
        "Print the factorial of the integer.\n",
        "\n",
        "Sample Input :\n",
        "2\n",
        "Sample Output :\n",
        "2"
      ],
      "metadata": {
        "id": "tux5VXuCk-CA"
      }
    },
    {
      "cell_type": "code",
      "source": [
        "a=int(input())\n",
        "import math\n",
        "b=math.factorial(a)\n",
        "print(b)"
      ],
      "metadata": {
        "colab": {
          "base_uri": "https://localhost:8080/"
        },
        "id": "UBLnJgAmlDGb",
        "outputId": "52d372b0-a106-478a-b380-87bf2cf69ec4"
      },
      "execution_count": null,
      "outputs": [
        {
          "output_type": "stream",
          "name": "stdout",
          "text": [
            "2\n",
            "2\n"
          ]
        }
      ]
    },
    {
      "cell_type": "markdown",
      "source": [
        "**Q10**.Using the method of looping, write a program to print the table of 9 till N in the format as follows:\n",
        "(N is input by the user)\n",
        "\n",
        "9 18 27...\n",
        "\n",
        "Print NULL if 0 is input\n",
        "\n",
        "Input Description:\n",
        "A positive integer is provided as an input.\n",
        "\n",
        "Output Description:\n",
        "Print the table of nine with single space between the elements till the number that is input.\n",
        "\n",
        "Sample Input :\n",
        "3\n",
        "Sample Output :\n",
        "9 18 27"
      ],
      "metadata": {
        "id": "IaP72UX9lIUr"
      }
    },
    {
      "cell_type": "code",
      "source": [
        "def multiple(m, n):\n",
        "    if (m>0):\n",
        "        a = range(n, (m * n)+1, n)\n",
        "        print(*a)\n",
        "    else:\n",
        "        print(\"NULL\")\n",
        "\n",
        "m = int(input())\n",
        "n = 9\n",
        "multiple(m, n)"
      ],
      "metadata": {
        "colab": {
          "base_uri": "https://localhost:8080/"
        },
        "id": "crNFe2JnlMkN",
        "outputId": "94e4009f-9103-48b6-f5f6-00e7cdb2bf70"
      },
      "execution_count": null,
      "outputs": [
        {
          "output_type": "stream",
          "name": "stdout",
          "text": [
            "3\n",
            "9 18 27\n"
          ]
        }
      ]
    },
    {
      "cell_type": "markdown",
      "source": [
        "**Q11**.You are given the coefficients of a quadratic equation in order A, B & C.\n",
        "\n",
        "Where A is the coefficient of X2,  B is the coefficient of X and C is the constant term in the most simplified form.\n",
        "\n",
        "Example: For  X2 + 5X + 6 = 0, you are given the input as: 1 5 6.\n",
        "\n",
        "Write a program to find all of the roots of the quadratic.\n",
        "\n",
        "Note: The output should be up to 2nd decimal place (round off if needed) and in case of a recurring decimal use braces i.e. for eg: 0.33333..... => 0.33.\n",
        "\n",
        "Note: Use Shri Dharacharya's Method to solve i.e. X = {-b + √(b² - 4ac) } / 2a & {-b-√(b² -4ac)} / 2a\n",
        "\n",
        "Input Description:\n",
        "Three numbers corresponding to the coefficients of x(squared), x and constant are given as an input in that particular order\n",
        "\n",
        "Output Description:\n",
        "Print the two values of X after rounding off to 2 decimal places if required.\n",
        "\n",
        "Sample Input :\n",
        "1 5 6\n",
        "Sample Output :\n",
        "-2.00\n",
        "-3.00"
      ],
      "metadata": {
        "id": "Xtxj1-jrlPVa"
      }
    },
    {
      "cell_type": "code",
      "source": [
        "import math\n",
        "\n",
        "def fun(a,b,c):\n",
        "    d = math.sqrt((b**2)-(4*a*c))\n",
        "    m = (-b+d)/(2*a)\n",
        "    n = (-b-d)/(2*a)\n",
        "    print(f'{m:.2f}')\n",
        "    print(f'{n:.2f}')\n",
        "    \n",
        "a,b,c = map(int,input().split())   \n",
        "fun(a,b,c)"
      ],
      "metadata": {
        "colab": {
          "base_uri": "https://localhost:8080/"
        },
        "id": "UV-a9cjGlTav",
        "outputId": "10b0a590-2397-4984-c1b6-7f2be64146d2"
      },
      "execution_count": null,
      "outputs": [
        {
          "output_type": "stream",
          "name": "stdout",
          "text": [
            "1 5 6\n",
            "-2.00\n",
            "-3.00\n"
          ]
        }
      ]
    },
    {
      "cell_type": "markdown",
      "source": [
        "**Q12**.Let \"A\" be a year, write a program to check whether this year is a leap year or not.\n",
        "\n",
        "Print \"Y\" if its a leap year and \"N\" if its a common year.\n",
        "\n",
        "Input Description:\n",
        "A Year is the input in the form of a positive integer.\n",
        "\n",
        "Output Description:\n",
        "Print \"Y\" if its a leap year and \"N\" if its a common year.\n",
        "\n",
        "Sample Input :\n",
        "2020\n",
        "Sample Output :\n",
        "Y"
      ],
      "metadata": {
        "id": "X5I0oH7XlZOR"
      }
    },
    {
      "cell_type": "code",
      "source": [
        "year = int(input())\n",
        "\n",
        "if (year % 4) == 0:\n",
        "   if (year % 100) == 0:\n",
        "       if (year % 400) == 0:\n",
        "           print(\"Y\")\n",
        "       else:\n",
        "           print(\"N\")\n",
        "   else:\n",
        "       print(\"Y\")\n",
        "else:\n",
        "   print(\"N\")"
      ],
      "metadata": {
        "colab": {
          "base_uri": "https://localhost:8080/"
        },
        "id": "8RkhuZj8ldBp",
        "outputId": "db42db07-bf96-48ea-cced-3eb66a8329af"
      },
      "execution_count": null,
      "outputs": [
        {
          "output_type": "stream",
          "name": "stdout",
          "text": [
            "2020\n",
            "Y\n"
          ]
        }
      ]
    },
    {
      "cell_type": "markdown",
      "source": [
        "**Q13**.Write a code to get an integer N and print values from 1 till N in a separate line.\n",
        "\n",
        "Input Description:\n",
        "A single line contains an integer N.\n",
        "\n",
        "Output Description:\n",
        "Print the values from 1 to N in a separate line.\n",
        "\n",
        "Sample Input :\n",
        "5\n",
        "Sample Output :\n",
        "1\n",
        "2\n",
        "3\n",
        "4\n",
        "5"
      ],
      "metadata": {
        "id": "v-Je71-klg-1"
      }
    },
    {
      "cell_type": "code",
      "source": [
        "a=int(input())\n",
        "i = 1\n",
        "while i <= a:\n",
        "  print(i)\n",
        "  if i == a:\n",
        "    break\n",
        "  i= i+1"
      ],
      "metadata": {
        "colab": {
          "base_uri": "https://localhost:8080/"
        },
        "id": "rzeD259slkjL",
        "outputId": "fc3e5e17-9cec-4ffa-b14e-fdd63a856b9d"
      },
      "execution_count": null,
      "outputs": [
        {
          "output_type": "stream",
          "name": "stdout",
          "text": [
            "5\n",
            "1\n",
            "2\n",
            "3\n",
            "4\n",
            "5\n"
          ]
        }
      ]
    },
    {
      "cell_type": "markdown",
      "source": [
        "**Q14**.Write a code to get the input and print it 5 times.\n",
        "\n",
        "Input Description:\n",
        "A single line contains an integer N.\n",
        "\n",
        "Output Description:\n",
        "Output contains 5 lines with each line having the value N.\n",
        "\n",
        "Sample Input :\n",
        "4\n",
        "Sample Output :\n",
        "4\n",
        "4\n",
        "4\n",
        "4\n",
        "4"
      ],
      "metadata": {
        "id": "-vpCUaLXl2bA"
      }
    },
    {
      "cell_type": "code",
      "source": [
        "a=input()\n",
        "i=0\n",
        "while i<5:\n",
        "  print(a)\n",
        "  i=i+1"
      ],
      "metadata": {
        "colab": {
          "base_uri": "https://localhost:8080/"
        },
        "id": "rLoIxYXDl6Ej",
        "outputId": "bcf320ed-de76-48ec-aeac-b084c3490437"
      },
      "execution_count": null,
      "outputs": [
        {
          "output_type": "stream",
          "name": "stdout",
          "text": [
            "4\n",
            "4\n",
            "4\n",
            "4\n",
            "4\n",
            "4\n"
          ]
        }
      ]
    },
    {
      "cell_type": "markdown",
      "source": [
        "**Q15**.You are given A = Length of a rectangle & B = breadth of a rectangle. Find its area “C”.\n",
        "\n",
        "(A and B are natural numbers)\n",
        "\n",
        "Input Description:\n",
        "The inputs are two natural numbers representing the length and the breadth of a rectangle.\n",
        "\n",
        "Output Description:\n",
        "Find the area of the rectangle formed by the provided input. Round off the answer to the first decimal place if required.\n",
        "\n",
        "Sample Input :\n",
        "2\n",
        "3\n",
        "Sample Output :\n",
        "6"
      ],
      "metadata": {
        "id": "QMa5Ptr-l9Z7"
      }
    },
    {
      "cell_type": "code",
      "source": [
        "a=int(input())\n",
        "b=int(input())\n",
        "\n",
        "area=(a*b)\n",
        "\n",
        "print(round(area))"
      ],
      "metadata": {
        "colab": {
          "base_uri": "https://localhost:8080/"
        },
        "id": "p4zqjw1pmBH9",
        "outputId": "afa680da-679f-493a-860c-1be1cdcdd906"
      },
      "execution_count": null,
      "outputs": [
        {
          "output_type": "stream",
          "name": "stdout",
          "text": [
            "2\n",
            "3\n",
            "6\n"
          ]
        }
      ]
    },
    {
      "cell_type": "markdown",
      "source": [
        "**Q16**.You are provided with two numbers. Find and print the smaller number.\n",
        "\n",
        "Input Description:\n",
        "You are provided with two numbers as input.\n",
        "\n",
        "Output Description:\n",
        "Print the small number out of the two numbers.\n",
        "\n",
        "Sample Input :\n",
        "23 1\n",
        "Sample Output :\n",
        "1"
      ],
      "metadata": {
        "id": "WEKOXPTsmF9c"
      }
    },
    {
      "cell_type": "code",
      "source": [
        "A=(input()).split(' ')\n",
        "print(min(A))"
      ],
      "metadata": {
        "colab": {
          "base_uri": "https://localhost:8080/"
        },
        "id": "VgVcVRz4mKv6",
        "outputId": "072a3598-c595-49bc-cbc4-c73233f20893"
      },
      "execution_count": null,
      "outputs": [
        {
          "output_type": "stream",
          "name": "stdout",
          "text": [
            "23 1\n",
            "1\n"
          ]
        }
      ]
    },
    {
      "cell_type": "markdown",
      "source": [
        "**Q17**.Write a code to get an integer N and print the even values from 1 till N in a separate line.\n",
        "\n",
        "Input Description:\n",
        "A single line contains an integer N.\n",
        "\n",
        "Output Description:\n",
        "Print the even values from 1 to N in a separate line.\n",
        "\n",
        "Sample Input :\n",
        "6\n",
        "Sample Output :\n",
        "2\n",
        "4\n",
        "6"
      ],
      "metadata": {
        "id": "r_q8DbAbmPsh"
      }
    },
    {
      "cell_type": "code",
      "source": [
        "n=int(input())\n",
        "for i in range(2,n+1): \n",
        "    if i%2==0: \n",
        "       print(i)"
      ],
      "metadata": {
        "colab": {
          "base_uri": "https://localhost:8080/"
        },
        "id": "bSaJ9-gdmTuH",
        "outputId": "a9d802cb-6eef-4f94-e974-eeb77d0764f1"
      },
      "execution_count": null,
      "outputs": [
        {
          "output_type": "stream",
          "name": "stdout",
          "text": [
            "6\n",
            "2\n",
            "4\n",
            "6\n"
          ]
        }
      ]
    },
    {
      "cell_type": "markdown",
      "source": [
        "**Q18**.The area of an equilateral triangle is ¼(√3a2) where \"a\" represents a side of the triangle. You are provided with the side \"a\". Find the area of the equilateral triangle.\n",
        "\n",
        "Input Description:\n",
        "The side of an equilateral triangle is provided as the input.\n",
        "\n",
        "Output Description:\n",
        "Find the area of the equilateral triangle and print the answer up to 2 decimal places after rounding off.\n",
        "\n",
        "Sample Input :\n",
        "20\n",
        "Sample Output :\n",
        "173.21"
      ],
      "metadata": {
        "id": "MLxzOq7wmXBN"
      }
    },
    {
      "cell_type": "code",
      "source": [
        "import math\n",
        "\n",
        "a=int(input())\n",
        "area=float((math.sqrt(3)*a*a)/4)\n",
        "print(round(area,2))"
      ],
      "metadata": {
        "colab": {
          "base_uri": "https://localhost:8080/"
        },
        "id": "mZazizF3mbX_",
        "outputId": "95b62d86-9d35-47ff-d43e-b2d73e202264"
      },
      "execution_count": null,
      "outputs": [
        {
          "output_type": "stream",
          "name": "stdout",
          "text": [
            "20\n",
            "173.21\n"
          ]
        }
      ]
    },
    {
      "cell_type": "markdown",
      "source": [
        "**Q19**.Write a code to get an integer N and print the digits of the integer.\n",
        "\n",
        "Input Description:\n",
        "A single line contains an integer N.\n",
        "\n",
        "Output Description:\n",
        "Print the digits of the integer in a single line separated by space,\n",
        "\n",
        "Sample Input :\n",
        "348\n",
        "Sample Output :\n",
        "3 4 8"
      ],
      "metadata": {
        "id": "1XVu-F7RmeqB"
      }
    },
    {
      "cell_type": "code",
      "source": [
        "N=(input())\n",
        "print(*N)"
      ],
      "metadata": {
        "colab": {
          "base_uri": "https://localhost:8080/"
        },
        "id": "VYPtfMn-ojd9",
        "outputId": "4d6ae8ab-7134-44ef-9fd4-52a388e9df93"
      },
      "execution_count": null,
      "outputs": [
        {
          "output_type": "stream",
          "name": "stdout",
          "text": [
            "348\n",
            "3 4 8\n"
          ]
        }
      ]
    },
    {
      "cell_type": "markdown",
      "source": [
        "**Q20**.Let \"A\"  be a string. Remove all the whitespaces and find it's length.\n",
        "\n",
        "Input Description:\n",
        "A string is provide as an input\n",
        "\n",
        "Output Description:\n",
        "Remove all the whitespaces and then print the length of the remaining string.\n",
        "\n",
        "Sample Input :\n",
        "Lorem Ipsum\n",
        "Sample Output :\n",
        "10"
      ],
      "metadata": {
        "id": "ShicsAGxoptk"
      }
    },
    {
      "cell_type": "code",
      "source": [
        "a = input()\n",
        "b = a.split()\n",
        "new = ''.join(b)\n",
        "print(len(new))"
      ],
      "metadata": {
        "colab": {
          "base_uri": "https://localhost:8080/"
        },
        "id": "XQdSjhziotvL",
        "outputId": "a9d2bf98-3eae-4100-fef0-b5ac462258cf"
      },
      "execution_count": null,
      "outputs": [
        {
          "output_type": "stream",
          "name": "stdout",
          "text": [
            "Lorem Ipsum\n",
            "10\n"
          ]
        }
      ]
    },
    {
      "cell_type": "markdown",
      "source": [
        "**Q21**.Write a code get an integer number as input and print the sum of the digits.\n",
        "\n",
        "Input Description:\n",
        "A single line containing an integer.\n",
        "\n",
        "Output Description:\n",
        "Print the sum of the digits of the integer.\n",
        "\n",
        "Sample Input :\n",
        "124\n",
        "Sample Output :\n",
        "7"
      ],
      "metadata": {
        "id": "H23iNj8ao1Gs"
      }
    },
    {
      "cell_type": "code",
      "source": [
        "n=int(input())\n",
        "sum=0\n",
        "while(n>0):\n",
        "    dig=n%10\n",
        "    sum=sum+dig\n",
        "    n=n//10\n",
        "print(sum)"
      ],
      "metadata": {
        "colab": {
          "base_uri": "https://localhost:8080/"
        },
        "id": "Qqbt-ERyo5Jd",
        "outputId": "13f9d3f8-361f-482a-e0a3-cba99e4ea281"
      },
      "execution_count": null,
      "outputs": [
        {
          "output_type": "stream",
          "name": "stdout",
          "text": [
            "124\n",
            "7\n"
          ]
        }
      ]
    },
    {
      "cell_type": "markdown",
      "source": [
        "**Q22**.You are provided with the radius of a circle \"A\". Find the length of its circumference.\n",
        "\n",
        "Note: In case the output is coming in decimal, roundoff to 2nd decimal place. In case the input is a negative number, print \"Error\".\n",
        "\n",
        "Input Description:\n",
        "The Radius of a circle is provided as the input of the program.\n",
        "\n",
        "Output Description:\n",
        "Calculate and print the Circumference of the circle corresponding to the input radius up to two decimal places.\n",
        "\n",
        "Sample Input :\n",
        "2\n",
        "Sample Output :\n",
        "12.57"
      ],
      "metadata": {
        "id": "3VJJj2vKo8pY"
      }
    },
    {
      "cell_type": "code",
      "source": [
        "import math\n",
        "\n",
        "r=float(input())\n",
        "\n",
        "def circumference(radius):\n",
        "    \n",
        "    if (r>=0):\n",
        "        print(round((2*math.pi*r),2)),\n",
        "    else:\n",
        "        print('Error')\n",
        "        \n",
        "circumference(r)\n",
        "\n",
        "import numpy\n",
        "\n",
        "A=float(input())\n",
        "b=float(2*numpy.pi*A)\n",
        "L=round(b,2)\n",
        "\n",
        "if (A>=0):\n",
        "  print(L),\n",
        "else:\n",
        "  print('Error')\n",
        "     "
      ],
      "metadata": {
        "colab": {
          "base_uri": "https://localhost:8080/"
        },
        "id": "ewYErUBlpAz1",
        "outputId": "a0e98687-9970-411d-b467-4213f80038d1"
      },
      "execution_count": null,
      "outputs": [
        {
          "output_type": "stream",
          "name": "stdout",
          "text": [
            "2\n",
            "12.57\n",
            "2\n",
            "12.57\n"
          ]
        }
      ]
    },
    {
      "cell_type": "markdown",
      "source": [
        "**Q23**.Write a program to get a string as input and reverse the string without using temporary variable.\n",
        "\n",
        "Input Description:\n",
        "A single line containing a string.\n",
        "\n",
        "Output Description:\n",
        "Print the reversed string.\n",
        "\n",
        "Sample Input :\n",
        "GUVI\n",
        "Sample Output :\n",
        "IVUG"
      ],
      "metadata": {
        "id": "7ucDD40kpKWC"
      }
    },
    {
      "cell_type": "code",
      "source": [
        "a=input()\n",
        "print(a[::-1])"
      ],
      "metadata": {
        "colab": {
          "base_uri": "https://localhost:8080/"
        },
        "id": "qB3ayE-WpVh-",
        "outputId": "f5b8da32-6d08-46e2-cd39-359ee8239cdc"
      },
      "execution_count": null,
      "outputs": [
        {
          "output_type": "stream",
          "name": "stdout",
          "text": [
            "GUVI\n",
            "IVUG\n"
          ]
        }
      ]
    },
    {
      "cell_type": "markdown",
      "source": [
        "**Q24**.Write a code get an integer number as input and print the odd and even digits of the number separately.\n",
        "\n",
        "Input Description:\n",
        "A single line containing an integer.\n",
        "\n",
        "Output Description:\n",
        "Print the even and odd integers of the integer in a separate line.\n",
        "\n",
        "Sample Input :\n",
        "1234\n",
        "Sample Output :\n",
        "2 4\n",
        "1 3"
      ],
      "metadata": {
        "id": "RG6pUyN-pZmA"
      }
    },
    {
      "cell_type": "code",
      "source": [
        "n = input()\n",
        "even = []\n",
        "odd = []\n",
        "for i in n:\n",
        "    if int(i) % 2 == 0:\n",
        "        even.append(i)\n",
        "    else:\n",
        "        odd.append(i)\n",
        "even.sort()\n",
        "odd.sort()\n",
        "print(*even)\n",
        "print(*odd)"
      ],
      "metadata": {
        "colab": {
          "base_uri": "https://localhost:8080/"
        },
        "id": "zOiP7iBEpdcB",
        "outputId": "d6a7ebd2-2f28-4499-bf36-d3d8e5f01950"
      },
      "execution_count": null,
      "outputs": [
        {
          "output_type": "stream",
          "name": "stdout",
          "text": [
            "1234\n",
            "2 4\n",
            "1 3\n"
          ]
        }
      ]
    },
    {
      "cell_type": "markdown",
      "source": [
        "**Q25**.Write a code to get an integer N and print the values from N to 1.\n",
        "\n",
        "Input Description:\n",
        "A single line contains an integer N.\n",
        "\n",
        "Output Description:\n",
        "Print the values from N to 1 in a separate line.\n",
        "\n",
        "Sample Input :\n",
        "10\n",
        "Sample Output :\n",
        "10\n",
        "9\n",
        "8\n",
        "7\n",
        "6\n",
        "5\n",
        "4\n",
        "3\n",
        "2\n",
        "1"
      ],
      "metadata": {
        "id": "y5Iv7ZvUphH_"
      }
    },
    {
      "cell_type": "code",
      "source": [
        "N=int(input())\n",
        "\n",
        "for i in range(N,0,-1):\n",
        "  print(i)"
      ],
      "metadata": {
        "colab": {
          "base_uri": "https://localhost:8080/"
        },
        "id": "1peSXFiRpmpM",
        "outputId": "1caef03a-4453-4050-fc62-0f4487f97b45"
      },
      "execution_count": null,
      "outputs": [
        {
          "output_type": "stream",
          "name": "stdout",
          "text": [
            "10\n",
            "10\n",
            "9\n",
            "8\n",
            "7\n",
            "6\n",
            "5\n",
            "4\n",
            "3\n",
            "2\n",
            "1\n"
          ]
        }
      ]
    },
    {
      "cell_type": "markdown",
      "source": [
        "**Q26**.You are given Two Numbers, A and B. If C = A + B. Find C.\n",
        "\n",
        "Note: Round off the output to a single decimal place.\n",
        "\n",
        "Input Description:\n",
        "You are provided with two numbers A and B.\n",
        "\n",
        "Output Description:\n",
        "Find the sum of the two numbers (A + B)\n",
        "\n",
        "Sample Input :\n",
        "1\n",
        "1\n",
        "Sample Output :\n",
        "2"
      ],
      "metadata": {
        "id": "-frHWBRtpqVT"
      }
    },
    {
      "cell_type": "code",
      "source": [
        "A=int(input())\n",
        "B=int(input())\n",
        "C=(A+B)\n",
        "\n",
        "print(C)"
      ],
      "metadata": {
        "colab": {
          "base_uri": "https://localhost:8080/"
        },
        "id": "AmLUaBuwpuvH",
        "outputId": "c5e4e4eb-1ac4-4efc-e831-daa19756ee0f"
      },
      "execution_count": null,
      "outputs": [
        {
          "output_type": "stream",
          "name": "stdout",
          "text": [
            "1\n",
            "1\n",
            "2\n"
          ]
        }
      ]
    },
    {
      "cell_type": "markdown",
      "source": [
        "**Q27**.You are given a number A in Kilometers. Convert this into B: Meters and C: Centi-Metres.\n",
        "\n",
        "Input Description:\n",
        "A number \"A\" representing some distance in kilometer is provided to you as the input.\n",
        "\n",
        "Output Description:\n",
        "Convert and print this value in meters and centimeters.\n",
        "\n",
        "Sample Input :\n",
        "2\n",
        "Sample Output :\n",
        "2000\n",
        "200000"
      ],
      "metadata": {
        "id": "cl5yVY-Yp4HB"
      }
    },
    {
      "cell_type": "code",
      "source": [
        "A=int(input())\n",
        "B=(A*1000)\n",
        "C=(A*100000)\n",
        "\n",
        "print(B)\n",
        "print(C)"
      ],
      "metadata": {
        "colab": {
          "base_uri": "https://localhost:8080/"
        },
        "id": "dfc1XpdPqAxB",
        "outputId": "18bd545a-1d75-4d31-bbc7-af472d3bb432"
      },
      "execution_count": null,
      "outputs": [
        {
          "output_type": "stream",
          "name": "stdout",
          "text": [
            "2\n",
            "2000\n",
            "200000\n"
          ]
        }
      ]
    },
    {
      "cell_type": "markdown",
      "source": [
        "**Q28**.Write a code to get an integer N and print the sum of  values from 1 to N.\n",
        "\n",
        "Input Description:\n",
        "A single line contains an integer N.\n",
        "\n",
        "Output Description:\n",
        "Print the sum of values from 1 to N.\n",
        "\n",
        "Sample Input :\n",
        "10\n",
        "Sample Output :\n",
        "55"
      ],
      "metadata": {
        "id": "ouDDR1ruqElx"
      }
    },
    {
      "cell_type": "code",
      "source": [
        "n=int(input())\n",
        "\n",
        "print(int(n*(n+1)/2))"
      ],
      "metadata": {
        "colab": {
          "base_uri": "https://localhost:8080/"
        },
        "id": "Nj_dGVWEqIdR",
        "outputId": "315e0427-7ae3-4344-d144-a4475bd1c213"
      },
      "execution_count": null,
      "outputs": [
        {
          "output_type": "stream",
          "name": "stdout",
          "text": [
            "10\n",
            "55\n"
          ]
        }
      ]
    },
    {
      "cell_type": "markdown",
      "source": [
        "**Q29**.Write a code to get 2 integers as input and find the HCF of the 2 integer without using recursion or Euclidean algorithm.\n",
        "\n",
        "Input Description:\n",
        "A single line containing 2 integers separated by space.\n",
        "\n",
        "Output Description:\n",
        "Print the HCF of the integers.\n",
        "\n",
        "Sample Input :\n",
        "2 3\n",
        "Sample Output :\n",
        "1"
      ],
      "metadata": {
        "id": "7JQJsFWPqLpj"
      }
    },
    {
      "cell_type": "code",
      "source": [
        "import math\n",
        "x,y = map(int,input().split(\" \"))\n",
        "print(math.gcd(x,y))"
      ],
      "metadata": {
        "id": "uukH-ATrqPw1",
        "outputId": "1ca3fc18-fd4f-4999-91f1-61c6226321f8",
        "colab": {
          "base_uri": "https://localhost:8080/"
        }
      },
      "execution_count": null,
      "outputs": [
        {
          "output_type": "stream",
          "name": "stdout",
          "text": [
            "2 3\n",
            "1\n"
          ]
        }
      ]
    }
  ]
}