{
  "nbformat": 4,
  "nbformat_minor": 0,
  "metadata": {
    "colab": {
      "provenance": []
    },
    "kernelspec": {
      "name": "python3",
      "display_name": "Python 3"
    },
    "language_info": {
      "name": "python"
    }
  },
  "cells": [
    {
      "cell_type": "markdown",
      "source": [
        "**Q1**.Write a code to get the input in the given format and print the output in the given format\n",
        "\n",
        "Input Description:\n",
        "To take an integer value\n",
        "\n",
        "Output Description:\n",
        "Print the integer value\n",
        "\n",
        "Sample Input :\n",
        "2\n",
        "Sample Output :\n",
        "2"
      ],
      "metadata": {
        "id": "D6qf1UBNdTdM"
      }
    },
    {
      "cell_type": "code",
      "execution_count": null,
      "metadata": {
        "colab": {
          "base_uri": "https://localhost:8080/"
        },
        "id": "1evWkQhcdNbA",
        "outputId": "ca6eec74-0499-4ec2-8517-8e45b9b9138e"
      },
      "outputs": [
        {
          "output_type": "stream",
          "name": "stdout",
          "text": [
            "2\n",
            "2\n"
          ]
        }
      ],
      "source": [
        "A=int(input())\n",
        "print(A)"
      ]
    },
    {
      "cell_type": "markdown",
      "source": [
        "**Q2**.Write a code to get the input in the given format and print the output in the given format\n",
        "\n",
        "Input Description:\n",
        "A single line contains integers separated by space\n",
        "\n",
        "Output Description:\n",
        "Print the integer list of integers separated by space\n",
        "\n",
        "Sample Input :\n",
        "2 3 4 5 6 7 8\n",
        "Sample Output :\n",
        "2 3 4 5 6 7 8"
      ],
      "metadata": {
        "id": "0tVq8X47drz7"
      }
    },
    {
      "cell_type": "code",
      "source": [
        "A=input()\n",
        "print(A)"
      ],
      "metadata": {
        "colab": {
          "base_uri": "https://localhost:8080/"
        },
        "id": "B95MACB-dpDt",
        "outputId": "4f6ad7ea-bc8f-418a-9752-1d4bfb9292df"
      },
      "execution_count": null,
      "outputs": [
        {
          "output_type": "stream",
          "name": "stdout",
          "text": [
            "2 3 4 5 6 7 8\n",
            "2 3 4 5 6 7 8\n"
          ]
        }
      ]
    },
    {
      "cell_type": "markdown",
      "source": [
        "**Q3**.Write a code to get the input in the given format and print the output in the given format.\n",
        "\n",
        "Input Description:\n",
        "First-line indicates two integers which are the size of array and 'K' value. Second-line indicates an integer contains elements of an array.\n",
        "\n",
        "Output Description:\n",
        "Print the taken input in the same format.\n",
        "\n",
        "Sample Input :\n",
        "5 3\n",
        "1 2 3 4 5\n",
        "Sample Output :\n",
        "5 3\n",
        "1 2 3 4 5"
      ],
      "metadata": {
        "id": "BtBq7N_9d4rp"
      }
    },
    {
      "cell_type": "code",
      "source": [
        "a=input()\n",
        "b=input()\n",
        "print(a)\n",
        "print(b)"
      ],
      "metadata": {
        "colab": {
          "base_uri": "https://localhost:8080/"
        },
        "id": "-8kDOD1Jd1U1",
        "outputId": "7daecbde-07ef-40ad-bcb8-b11fbaa4be40"
      },
      "execution_count": null,
      "outputs": [
        {
          "output_type": "stream",
          "name": "stdout",
          "text": [
            "5 3\n",
            "1 2 3 4 5 \n",
            "5 3\n",
            "1 2 3 4 5 \n"
          ]
        }
      ]
    },
    {
      "cell_type": "markdown",
      "source": [
        "**Q4**.Write a code to get the input in the given format and print the output in the given format\n",
        "\n",
        "Input Description:\n",
        "First-line indicates two integers separated by space. Second-line indicates two integers separated by space. Third-line indicates two integers separated by space.\n",
        "\n",
        "Output Description:\n",
        "Print the input in the same format.\n",
        "\n",
        "Sample Input :\n",
        "2 4\n",
        "2 4\n",
        "2 4\n",
        "Sample Output :\n",
        "2 4\n",
        "2 4\n",
        "2 4"
      ],
      "metadata": {
        "id": "3PfJF3-XeG0Q"
      }
    },
    {
      "cell_type": "code",
      "source": [
        "a=list(map(int,input().split()))\n",
        "b=list(map(int,input().split()))\n",
        "c=list(map(int,input().split()))\n",
        "print(*a)\n",
        "print(*b)\n",
        "print(*c)"
      ],
      "metadata": {
        "colab": {
          "base_uri": "https://localhost:8080/"
        },
        "id": "LHqsHOywd3wL",
        "outputId": "8779deb6-9a12-4f3b-e8e5-ffda1912918b"
      },
      "execution_count": null,
      "outputs": [
        {
          "output_type": "stream",
          "name": "stdout",
          "text": [
            "2 4 \n",
            "2 4\n",
            "2 4\n",
            "2 4\n",
            "2 4\n",
            "2 4\n"
          ]
        }
      ]
    },
    {
      "cell_type": "markdown",
      "source": [
        "**Q5**.Write a code to get the input in the given format and print the output in the given format\n",
        "\n",
        "Input Description:\n",
        "Three integers are given in line by line.\n",
        "\n",
        "Output Description:\n",
        "Print the integers in a single line separate by space.\n",
        "\n",
        "Sample Input :\n",
        "2\n",
        "4\n",
        "5\n",
        "Sample Output :\n",
        "2 4 5"
      ],
      "metadata": {
        "id": "QU7l-B9Qebq1"
      }
    },
    {
      "cell_type": "code",
      "source": [
        "a=input()\n",
        "b=input()\n",
        "c=input()\n",
        "print(a,b,c)"
      ],
      "metadata": {
        "colab": {
          "base_uri": "https://localhost:8080/"
        },
        "id": "7Gw2JymfebFL",
        "outputId": "4c611aed-25c5-4925-bb56-a692085dcd75"
      },
      "execution_count": null,
      "outputs": [
        {
          "output_type": "stream",
          "name": "stdout",
          "text": [
            "2\n",
            "4\n",
            "5\n",
            "2 4 5\n"
          ]
        }
      ]
    },
    {
      "cell_type": "markdown",
      "source": [
        "**Q6**.Write a code to get the input in the given format and print the output in the given format\n",
        "\n",
        "Input Description:\n",
        "First-line indicates two integers separated by space. Second-line indicates three integers separated by space. Third-line indicates three integers separated by space\n",
        "\n",
        "Output Description:\n",
        "Print the input in the same format.\n",
        "\n",
        "Sample Input :\n",
        "2 5\n",
        "2 5 6\n",
        "2 4 5\n",
        "Sample Output :\n",
        "2 5\n",
        "2 5 6\n",
        "2 4 5"
      ],
      "metadata": {
        "id": "yBu9UzxFe0AE"
      }
    },
    {
      "cell_type": "code",
      "source": [
        "a=input()\n",
        "b=input()\n",
        "c=input()\n",
        "print(a)\n",
        "print(b)\n",
        "print(c)"
      ],
      "metadata": {
        "colab": {
          "base_uri": "https://localhost:8080/"
        },
        "id": "vM3eXOY4ezp3",
        "outputId": "8065e2f9-a648-433e-83ff-235f06ebeacb"
      },
      "execution_count": null,
      "outputs": [
        {
          "output_type": "stream",
          "name": "stdout",
          "text": [
            "2 5\n",
            "2 5 6\n",
            "2 4 5\n",
            "2 5\n",
            "2 5 6\n",
            "2 4 5\n"
          ]
        }
      ]
    },
    {
      "cell_type": "markdown",
      "source": [
        "**Q7**.Write a code to get the input in the given format and print the output in the given format\n",
        "\n",
        "Input Description:\n",
        "A single line contains a string.\n",
        "\n",
        "Output Description:\n",
        "Print the characters in a string separated by space.\n",
        "\n",
        "Sample Input :\n",
        "guvi\n",
        "Sample Output :\n",
        "g u v i"
      ],
      "metadata": {
        "id": "4hRu6nF-fMnY"
      }
    },
    {
      "cell_type": "code",
      "source": [
        "A=input('')\n",
        "print(*A)"
      ],
      "metadata": {
        "colab": {
          "base_uri": "https://localhost:8080/"
        },
        "id": "J7x8IG0bfMJb",
        "outputId": "b39466b1-137c-43c0-d7bd-e58f6cd96b48"
      },
      "execution_count": null,
      "outputs": [
        {
          "output_type": "stream",
          "name": "stdout",
          "text": [
            "guvi\n",
            "g u v i\n"
          ]
        }
      ]
    },
    {
      "cell_type": "markdown",
      "source": [
        "**Q8**.Write a code to get the input in the given format and print the output in the given format.\n",
        "\n",
        "Input Description:\n",
        "A single line contains three float values separated by space.\n",
        "\n",
        "Output Description:\n",
        "Print the float value separated by line.\n",
        "\n",
        "Sample Input :\n",
        "2.3 4.5 7.8\n",
        "Sample Output :\n",
        "2.3\n",
        "4.5\n",
        "7.8"
      ],
      "metadata": {
        "id": "_jg6VuFyfV7d"
      }
    },
    {
      "cell_type": "code",
      "source": [
        "a=input()\n",
        "for i in a.split(\" \"):\n",
        "    print(i)"
      ],
      "metadata": {
        "colab": {
          "base_uri": "https://localhost:8080/"
        },
        "id": "xm8XX1OffVoM",
        "outputId": "8734b0bf-46a9-4e00-8d09-3552123765f2"
      },
      "execution_count": null,
      "outputs": [
        {
          "output_type": "stream",
          "name": "stdout",
          "text": [
            "2.3 4.5 7.8\n",
            "2.3\n",
            "4.5\n",
            "7.8\n"
          ]
        }
      ]
    },
    {
      "cell_type": "markdown",
      "source": [
        "**Q9**.Write a code to get the input in the given format and print the output in the given format.\n",
        "\n",
        "Input Description:\n",
        "A single line contains a string.\n",
        "\n",
        "Output Description:\n",
        "Print the characters in a string separated by line.\n",
        "\n",
        "Sample Input :\n",
        "guvigeek\n",
        "Sample Output :\n",
        "g\n",
        "u\n",
        "v\n",
        "i\n",
        "g\n",
        "e\n",
        "e\n",
        "k"
      ],
      "metadata": {
        "id": "oCEpvYLEfynM"
      }
    },
    {
      "cell_type": "code",
      "source": [
        "a=input()\n",
        "for i in a:\n",
        "    print(i)"
      ],
      "metadata": {
        "colab": {
          "base_uri": "https://localhost:8080/"
        },
        "id": "G_Y9J8Vafqa7",
        "outputId": "d0a8c335-4ed5-4d3c-86f1-2b7c04d60e96"
      },
      "execution_count": null,
      "outputs": [
        {
          "output_type": "stream",
          "name": "stdout",
          "text": [
            "guvigeek\n",
            "g\n",
            "u\n",
            "v\n",
            "i\n",
            "g\n",
            "e\n",
            "e\n",
            "k\n"
          ]
        }
      ]
    },
    {
      "cell_type": "markdown",
      "source": [
        "**Q10**.Write a code to get the input in the given format and print the output in the given format.\n",
        "\n",
        "Input Description:\n",
        "A single line contains a string.\n",
        "\n",
        "Output Description:\n",
        "Print the characters in a string separated by comma.\n",
        "\n",
        "Sample Input :\n",
        "guvi\n",
        "Sample Output :\n",
        "g,u,v,i"
      ],
      "metadata": {
        "id": "TGvnE3Onf79g"
      }
    },
    {
      "cell_type": "code",
      "source": [
        "A=input()\n",
        "print(','.join(A))"
      ],
      "metadata": {
        "colab": {
          "base_uri": "https://localhost:8080/"
        },
        "id": "S-EZMY1bfvH8",
        "outputId": "1c5cecdd-8153-41c7-a505-18f29260bb9d"
      },
      "execution_count": null,
      "outputs": [
        {
          "output_type": "stream",
          "name": "stdout",
          "text": [
            "guvi\n",
            "g,u,v,i\n"
          ]
        }
      ]
    }
  ]
}